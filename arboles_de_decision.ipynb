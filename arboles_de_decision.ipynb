{
  "nbformat": 4,
  "nbformat_minor": 0,
  "metadata": {
    "colab": {
      "name": "arboles_de_decision.ipynb",
      "provenance": [],
      "collapsed_sections": [],
      "authorship_tag": "ABX9TyMFfb1+/0QowdHXsU2OoQlm",
      "include_colab_link": true
    },
    "kernelspec": {
      "name": "python3",
      "display_name": "Python 3"
    },
    "language_info": {
      "name": "python"
    }
  },
  "cells": [
    {
      "cell_type": "markdown",
      "metadata": {
        "id": "view-in-github",
        "colab_type": "text"
      },
      "source": [
        "<a href=\"https://colab.research.google.com/github/JoseFPortoles/lectures_ML/blob/main/arboles_de_decision.ipynb\" target=\"_parent\"><img src=\"https://colab.research.google.com/assets/colab-badge.svg\" alt=\"Open In Colab\"/></a>"
      ]
    },
    {
      "cell_type": "markdown",
      "metadata": {
        "id": "Cc12FMvtTxIq"
      },
      "source": [
        "# Introducción\n",
        "Un árbol de decisión es un tipo de función que puede representarse por una estructura de árbol y computarse como una ruta desde la raíz del árbol hasta una de sus hojas.\n",
        "\n",
        "En un tal árbol podemos distinguir dos clases de nodos. Por una parte las ya mencionadas hojas se encuentran, por así decirlo, al final del árbol ya que son nodos que poseen una entrada desde otro nodo del árbol (su nodo padre) pero ningún nodo hijo. Un nodo hoja contiene un posible valor de salida de la función que representa el árbol, de forma que, una vez alcanzado, la computación de la función se da por terminada devolviéndose dicho valor.\n",
        "\n",
        "Por otra parte tenemos los **inodos** o nodos intermedios del árbol. Cada uno de éstos posee un nodo padre así como uno o más nodos hijo. Un inodo no contiene un valor sino una pregunta (test) formulada sobre el valor de entrada de la función. Dicha pregunta tiene un conjunto finito de posibles respuestas. Cada posible respuesta lleva a un nodo hijo. \n",
        "\n",
        "Resumiendo, el árbol puede atravesarse desde la raíz a las hojas contestando a una sucesión de preguntas (inodos) sobre el valor de entrada al que aquí llamaremos $x$ que llevan de una a otra y finalmente al valor de salida $y$ (hoja). Puesto que cada pregunta está formulada sobre $x$, la ruta particular que se siga dependerá del valor de $x$ en cada caso, y el valor de salida será una función $y\\,=\\,f\\left(x\\right)$\n"
      ]
    },
    {
      "cell_type": "code",
      "metadata": {
        "id": "jxiPLsWjTqdN"
      },
      "source": [
        ""
      ],
      "execution_count": null,
      "outputs": []
    }
  ]
}